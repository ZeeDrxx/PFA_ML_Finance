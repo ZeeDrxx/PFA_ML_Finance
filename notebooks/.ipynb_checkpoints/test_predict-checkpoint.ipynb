{
 "cells": [
  {
   "cell_type": "code",
   "execution_count": null,
   "id": "53fa6dd0",
   "metadata": {},
   "outputs": [],
   "source": [
    "import sys\n",
    "import os\n",
    "\n",
    "# Ajouter le chemin du dossier contenant predict.py\n",
    "target_path = os.path.abspath(\"../backend/app/ml\")\n",
    "if target_path not in sys.path:\n",
    "    sys.path.insert(0, target_path)\n",
    "\n",
    "# Forcer le rechargement dynamique\n",
    "import importlib.util\n",
    "\n",
    "spec = importlib.util.spec_from_file_location(\"predict\", os.path.join(target_path, \"predict.py\"))\n",
    "predict = importlib.util.module_from_spec(spec)\n",
    "spec.loader.exec_module(predict)\n",
    "\n"
   ]
  },
  {
   "cell_type": "code",
   "execution_count": null,
   "id": "0d1de159",
   "metadata": {},
   "outputs": [],
   "source": [
    "fake_tx = {\n",
    "    \"amount\": 890.55,\n",
    "    \"transaction_type\": \"transfer\",\n",
    "    \"transaction_channel\": \"POS\",\n",
    "    \"account_age_days\": 310,\n",
    "    \"num_transactions_last_24h\": 6,\n",
    "    \"avg_transaction_amount_last_7d\": 140.00,\n",
    "    \"is_weekend\": 1,\n",
    "    \"device_change_flag\": 1\n",
    "}\n",
    "\n",
    "result = predict.predict_transaction(fake_tx)\n",
    "print(\"✅ Résultat :\", \"🚨 FRAUDE détectée\" if result else \"✔️ Transaction normale\")\n",
    "\n"
   ]
  }
 ],
 "metadata": {
  "language_info": {
   "name": "python"
  }
 },
 "nbformat": 4,
 "nbformat_minor": 5
}
