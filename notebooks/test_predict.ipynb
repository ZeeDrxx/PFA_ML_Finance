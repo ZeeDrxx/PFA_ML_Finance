{
 "cells": [
  {
   "cell_type": "code",
   "execution_count": null,
   "id": "c13fca53",
   "metadata": {},
   "outputs": [],
   "source": [
    "import sys\n",
    "import os\n",
    "import importlib.util\n",
    "\n",
    "# Localisation du fichier predict.py\n",
    "target_path = os.path.abspath(\"../backend/app/ml\")\n",
    "predict_path = os.path.join(target_path, \"predict.py\")\n",
    "\n",
    "spec = importlib.util.spec_from_file_location(\"predict\", predict_path)\n",
    "predict = importlib.util.module_from_spec(spec)\n",
    "spec.loader.exec_module(predict)\n",
    "\n",
    "# Exposer la fonction pour appel direct\n",
    "predict_transaction = predict.predict_transaction\n"
   ]
  },
  {
   "cell_type": "code",
   "execution_count": null,
   "id": "f75bdcba",
   "metadata": {},
   "outputs": [],
   "source": [
    "fake_tx = {\n",
    "    \"amount\": 890.55,\n",
    "    \"transaction_type\": \"transfer\",\n",
    "    \"transaction_channel\": \"POS\",\n",
    "    \"account_age_days\": 310,\n",
    "    \"num_transactions_last_24h\": 6,\n",
    "    \"avg_transaction_amount_last_7d\": 140.00,\n",
    "    \"is_weekend\": 1,\n",
    "    \"device_change_flag\": 1\n",
    "}\n",
    "\n",
    "result = predict_transaction(fake_tx)\n",
    "print(\"✅ Résultat :\", \"🚨 FRAUDE détectée\" if result else \"✔️ Transaction normale\")\n"
   ]
  }
 ],
 "metadata": {},
 "nbformat": 4,
 "nbformat_minor": 5
}
