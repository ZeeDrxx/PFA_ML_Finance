{
 "cells": [
  {
   "cell_type": "code",
   "execution_count": null,
   "id": "6174a63d",
   "metadata": {
    "vscode": {
     "languageId": "plaintext"
    }
   },
   "outputs": [],
   "source": [
    "# Charger les bonnes librairies\n",
    "import joblib\n",
    "import pandas as pd"
   ]
  },
  {
   "cell_type": "code",
   "execution_count": null,
   "id": "2af4f470",
   "metadata": {
    "vscode": {
     "languageId": "plaintext"
    }
   },
   "outputs": [],
   "source": [
    "# 📂 Chemin vers le modèle\n",
    "model_path = \"../models/xgboost_fraud_model.joblib\"\n",
    "model = joblib.load(model_path)"
   ]
  },
  {
   "cell_type": "code",
   "execution_count": null,
   "id": "c05300b2",
   "metadata": {
    "vscode": {
     "languageId": "plaintext"
    }
   },
   "outputs": [],
   "source": [
    "# ✏️ Exemple de transaction à prédire\n",
    "sample_transaction = {\n",
    "    \"amount\": 950.5,\n",
    "    \"account_age_days\": 200,\n",
    "    \"num_transactions_last_24h\": 5,\n",
    "    \"avg_transaction_amount_last_7d\": 150.0,\n",
    "    \"is_weekend\": 1,\n",
    "    \"device_change_flag\": 0,\n",
    "    \"transaction_type_payment\": 1,\n",
    "    \"transaction_type_transfer\": 0,\n",
    "    \"transaction_type_withdrawal\": 0,\n",
    "    \"transaction_channel_POS\": 1,\n",
    "    \"transaction_channel_mobile\": 0,\n",
    "    \"transaction_channel_web\": 0\n",
    "}"
   ]
  },
  {
   "cell_type": "code",
   "execution_count": null,
   "id": "814eb79b",
   "metadata": {
    "vscode": {
     "languageId": "plaintext"
    }
   },
   "outputs": [],
   "source": [
    "\n",
    "# 🔀 Transformer en DataFrame\n",
    "sample_df = pd.DataFrame([sample_transaction])"
   ]
  },
  {
   "cell_type": "code",
   "execution_count": null,
   "id": "c75e0c84",
   "metadata": {
    "vscode": {
     "languageId": "plaintext"
    }
   },
   "outputs": [],
   "source": [
    "\n",
    "# 📈 Faire la prédiction\n",
    "prediction = model.predict(sample_df)[0]\n",
    "print(\"🚨 Fraude détectée !\" if prediction else \"✅ Transaction normale\")"
   ]
  }
 ],
 "metadata": {
  "language_info": {
   "name": "python"
  }
 },
 "nbformat": 4,
 "nbformat_minor": 5
}
